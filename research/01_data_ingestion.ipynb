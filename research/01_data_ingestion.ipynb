{
 "cells": [
  {
   "cell_type": "code",
   "execution_count": 5,
   "metadata": {},
   "outputs": [],
   "source": [
    "import os"
   ]
  },
  {
   "cell_type": "code",
   "execution_count": 2,
   "metadata": {},
   "outputs": [
    {
     "data": {
      "text/plain": [
       "'c:\\\\Users\\\\Hp\\\\Desktop\\\\Kidney-Disease-classification-DVC-MLflow\\\\research'"
      ]
     },
     "execution_count": 2,
     "metadata": {},
     "output_type": "execute_result"
    }
   ],
   "source": [
    "%pwd"
   ]
  },
  {
   "cell_type": "code",
   "execution_count": 6,
   "metadata": {},
   "outputs": [],
   "source": [
    "os.chdir(\"../\")"
   ]
  },
  {
   "cell_type": "code",
   "execution_count": 7,
   "metadata": {},
   "outputs": [
    {
     "data": {
      "text/plain": [
       "'c:\\\\Users\\\\Hp\\\\Desktop\\\\Kidney-Disease-classification-DVC-MLflow'"
      ]
     },
     "execution_count": 7,
     "metadata": {},
     "output_type": "execute_result"
    }
   ],
   "source": [
    "%pwd"
   ]
  },
  {
   "cell_type": "code",
   "execution_count": 8,
   "metadata": {},
   "outputs": [],
   "source": [
    "from dataclasses import dataclass\n",
    "from pathlib import Path\n",
    "\n",
    "@dataclass(frozen=True)\n",
    "class DataIngestionConfig:\n",
    "    root_dir: Path\n",
    "    source_url: str\n",
    "    data_file: Path\n",
    "    unzip_data: Path\n",
    "    "
   ]
  },
  {
   "cell_type": "code",
   "execution_count": 9,
   "metadata": {},
   "outputs": [],
   "source": [
    "from src.kidney_desiese_classifier.constants import Config_file_path, params_file_path\n",
    "from kidney_desiese_classifier.utils.common import read_yaml, create_directories"
   ]
  },
  {
   "cell_type": "code",
   "execution_count": 10,
   "metadata": {},
   "outputs": [],
   "source": [
    "class ConfigurationManager:\n",
    "    def __init__(self, \n",
    "                Config_filepath = Config_file_path, \n",
    "                params_filepath = params_file_path\n",
    "                ):\n",
    "        self.config = read_yaml(Config_filepath)\n",
    "        self.params = read_yaml(params_filepath)\n",
    "        \n",
    "        create_directories([self.config.artifacts_root])\n",
    "        \n",
    "    def get_data_ingestion_config(self) -> DataIngestionConfig:\n",
    "        config = self.config.data_ingestion\n",
    "        create_directories([config.root_dir])\n",
    "        \n",
    "        data_ingestion_config = DataIngestionConfig(\n",
    "            root_dir=config.root_dir,\n",
    "            source_url=config.source_url,\n",
    "            data_file=config.data_file,\n",
    "            unzip_data=config.unzip_data\n",
    "        )\n",
    "        return data_ingestion_config\n",
    "        \n",
    "        "
   ]
  },
  {
   "cell_type": "code",
   "execution_count": 11,
   "metadata": {},
   "outputs": [],
   "source": [
    "import os\n",
    "import zipfile\n",
    "import gdown\n",
    "from kidney_desiese_classifier.utils.common import get_size\n",
    "from kidney_desiese_classifier import *"
   ]
  },
  {
   "cell_type": "code",
   "execution_count": 14,
   "metadata": {},
   "outputs": [],
   "source": [
    "class DataIngestion:\n",
    "    def __init__(self, config: DataIngestionConfig):\n",
    "        self.config = config\n",
    "        \n",
    "        \n",
    "    def download_file(self)-> str:\n",
    "        try:\n",
    "            url = self.config.source_url\n",
    "            data_zip = self.config.data_file\n",
    "            os.makedirs(\"artifacts/data_ingestion\",exist_ok=True)\n",
    "            logger.info(f\"Downloading data from {url} into file {data_zip}\")\n",
    "            \n",
    "            file_id = url.split(\"/\")[-2]\n",
    "            pre = \"https://drive.google.com/file/d/export=download&id=\"\n",
    "            # https://drive.google.com/file/d/export=download&id=\n",
    "            gdown.download(pre+file_id, data_zip)\n",
    "            \n",
    "            logger.info(f\"Downloaded data from {url} into file {data_zip}\")\n",
    "        except Exception as e:\n",
    "            raise e\n",
    "        \n",
    "    def extract_zip(self):\n",
    "        unzip_path = self.config.unzip_data\n",
    "        os.makedirs(unzip_path, exist_ok=True)\n",
    "        with zipfile.ZipFile(self.config.data_file, 'r') as f:\n",
    "            f.extractall(unzip_path)"
   ]
  },
  {
   "cell_type": "code",
   "execution_count": 15,
   "metadata": {},
   "outputs": [
    {
     "name": "stdout",
     "output_type": "stream",
     "text": [
      "[2024-01-15 16:26:05,566: INFO: common: yaml file: config\\config.yaml loaded successfully]\n",
      "[2024-01-15 16:26:05,582: INFO: common: yaml file: params.yaml loaded successfully]\n",
      "[2024-01-15 16:26:05,582: INFO: common: created directory at: artifacts]\n",
      "[2024-01-15 16:26:05,590: INFO: common: created directory at: artifacts/data_ingestion]\n",
      "[2024-01-15 16:26:05,598: INFO: 1615306615: Downloading data from https://drive.google.com/file/d/1gU3C7EVVF9pji1axoJCnvR160nu4rGWd/view?usp=drive_link into file artifacts/data_ingestion/data.zip]\n"
     ]
    },
    {
     "name": "stderr",
     "output_type": "stream",
     "text": [
      "Downloading...\n",
      "From: https://drive.google.com/file/d/export=download&id=1gU3C7EVVF9pji1axoJCnvR160nu4rGWd\n",
      "To: c:\\Users\\Hp\\Desktop\\Kidney-Disease-classification-DVC-MLflow\\artifacts\\data_ingestion\\data.zip\n",
      "3.04kB [00:00, ?B/s]"
     ]
    },
    {
     "name": "stdout",
     "output_type": "stream",
     "text": [
      "[2024-01-15 16:26:07,799: INFO: 1615306615: Downloaded data from https://drive.google.com/file/d/1gU3C7EVVF9pji1axoJCnvR160nu4rGWd/view?usp=drive_link into file artifacts/data_ingestion/data.zip]\n"
     ]
    },
    {
     "name": "stderr",
     "output_type": "stream",
     "text": [
      "\n"
     ]
    }
   ],
   "source": [
    "try:\n",
    "    config = ConfigurationManager()\n",
    "    get_data_ingestion = config.get_data_ingestion_config()\n",
    "    data_ingestion = DataIngestion(config=get_data_ingestion)\n",
    "    data_ingestion.download_file()\n",
    "    #data_ingestion.extract_zip()\n",
    "except Exception as e:\n",
    "    raise e"
   ]
  },
  {
   "cell_type": "markdown",
   "metadata": {},
   "source": []
  },
  {
   "cell_type": "markdown",
   "metadata": {},
   "source": []
  },
  {
   "cell_type": "markdown",
   "metadata": {},
   "source": []
  }
 ],
 "metadata": {
  "kernelspec": {
   "display_name": "kidney",
   "language": "python",
   "name": "python3"
  },
  "language_info": {
   "codemirror_mode": {
    "name": "ipython",
    "version": 3
   },
   "file_extension": ".py",
   "mimetype": "text/x-python",
   "name": "python",
   "nbconvert_exporter": "python",
   "pygments_lexer": "ipython3",
   "version": "3.8.18"
  }
 },
 "nbformat": 4,
 "nbformat_minor": 2
}
